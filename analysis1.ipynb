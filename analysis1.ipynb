{
 "metadata": {
  "name": "analysis1.ipynb"
 },
 "nbformat": 3,
 "nbformat_minor": 0,
 "worksheets": [
  {
   "cells": [
    {
     "cell_type": "code",
     "collapsed": false,
     "input": [
      "import matplotlib.mlab as mlab\n",
      "import numpy as np\n",
      "%matplotlib\n",
      "from getdeltaNstuff import getdeltaN\n",
      "import matplotlib.pyplot as plt\n"
     ],
     "language": "python",
     "metadata": {},
     "outputs": [
      {
       "output_type": "stream",
       "stream": "stdout",
       "text": [
        "Using matplotlib backend: MacOSX\n"
       ]
      }
     ],
     "prompt_number": 2
    },
    {
     "cell_type": "code",
     "collapsed": false,
     "input": [
      "data = np.load('saved_reference_state.npz')\n",
      "Nicetot1 = data['Nicetot']\n",
      "Fliqtot1 = data['Fliqtot']\n",
      "tottot1  = data['tottot']\n",
      "Basetot1 = data['Basetot']\n",
      "Ncalls1 = data['Ncalls']\n",
      "x1 = data['x']"
     ],
     "language": "python",
     "metadata": {},
     "outputs": [],
     "prompt_number": 5
    },
    {
     "cell_type": "code",
     "collapsed": false,
     "input": [
      "data = np.load('../myBCF1_data/new_state02.npz')\n",
      "Nicetot2 = data['Nicetot']\n",
      "Fliqtot2 = data['Fliqtot']\n",
      "tottot2  = data['tottot']\n",
      "Basetot2 = data['Basetot']\n",
      "Ncalls2 = data['Ncalls']\n",
      "x2 = data['x']"
     ],
     "language": "python",
     "metadata": {},
     "outputs": [],
     "prompt_number": 6
    },
    {
     "cell_type": "code",
     "collapsed": false,
     "input": [
      "figure(1)\n",
      "clf()\n",
      "plot(x1,Nicetot1[:,-1],x2,Nicetot2[:,-1])\n",
      "grid('on')"
     ],
     "language": "python",
     "metadata": {},
     "outputs": [],
     "prompt_number": 7
    }
   ],
   "metadata": {}
  }
 ]
}