{
 "metadata": {
  "name": "numerical solution diffusion equation.ipynb",
  "signature": "sha256:c6fce6338f66098485ebd2f932baa78237874f5630ee7b96012cb54ab416d222"
 },
 "nbformat": 3,
 "nbformat_minor": 0,
 "worksheets": [
  {
   "cells": [
    {
     "cell_type": "code",
     "collapsed": false,
     "input": [
      "# Code from:\n",
      "# http://nbviewer.ipython.org/github/waltherg/notebooks/blob/master/2013-12-03-Crank_Nicolson.ipynb\n",
      "\n",
      "# Note: May have been edited for personal experimentation\n",
      "\n",
      "\n",
      "# Another website with potential usefulness\n",
      "# http://hplgit.github.io/num-methods-for-PDEs/doc/pub/diffu/sphinx/._main_diffu001.html"
     ],
     "language": "python",
     "metadata": {},
     "outputs": [],
     "prompt_number": 1
    },
    {
     "cell_type": "code",
     "collapsed": false,
     "input": [
      "# Importing Packages\n",
      "import numpy\n",
      "from matplotlib import pyplot"
     ],
     "language": "python",
     "metadata": {},
     "outputs": [],
     "prompt_number": 2
    },
    {
     "cell_type": "code",
     "collapsed": false,
     "input": [
      "# truncates the numerical values of matrices and vectors for easy veiwing\n",
      "numpy.set_printoptions(precision=3)"
     ],
     "language": "python",
     "metadata": {},
     "outputs": [],
     "prompt_number": 3
    },
    {
     "cell_type": "code",
     "collapsed": false,
     "input": [
      "#Create a one dimensional array of values to act as our domain\n",
      "\n",
      "L = 1.\n",
      "J = 100 #number of points\n",
      "# dx = float(L)/float(J-1) # Code from web\n",
      "dx = L/(J-1) # edited code, I don't think specifying float is necessary here\n",
      "x_grid = numpy.array([j*dx for j in range(J)])"
     ],
     "language": "python",
     "metadata": {},
     "outputs": [],
     "prompt_number": 4
    },
    {
     "cell_type": "code",
     "collapsed": false,
     "input": [
      "T = 200\n",
      "N = 1000\n",
      "dt = float(T)/float(N-1) #specifying float is necessary here since initial values are ints\n",
      "t_grid = numpy.array([n*dt for n in range(N)])"
     ],
     "language": "python",
     "metadata": {},
     "outputs": [],
     "prompt_number": 5
    },
    {
     "cell_type": "code",
     "collapsed": false,
     "input": [
      "# System Parameters specified on website\n",
      "D_v = 10./100.\n",
      "D_u = .01 * D_v\n",
      "\n",
      "k0 = 0.067\n",
      "#Note to self: look up what the following lines of code are doing\n",
      "f = lambda u, v: dt*(v*(k0 + float(u*u)/float(1. + u*u)) - u)\n",
      "g = lambda u, v: -f(u,v)\n",
      "\n",
      "sigma_u = float(D_u*dt)/float(2.*dx*dx)\n",
      "sigma_v = float(D_v*dt)/float(2.*dx*dx)\n",
      "\n",
      "# what is this?\n",
      "total_protein = 2.26"
     ],
     "language": "python",
     "metadata": {},
     "outputs": [],
     "prompt_number": 6
    },
    {
     "cell_type": "code",
     "collapsed": false,
     "input": [
      "no_high = 10\n",
      "U =  numpy.array([0.1 for i in range(no_high,J)] + [2. for i in range(0,no_high)])\n",
      "V = numpy.array([float(total_protein-dx*sum(U))/float(J*dx) for i in range(0,J)])\n",
      "# changed line 3 sum(u) -> sum(U). I think that is what they meant in the code\n",
      "# doesnt work otherwise"
     ],
     "language": "python",
     "metadata": {},
     "outputs": [],
     "prompt_number": 7
    },
    {
     "cell_type": "code",
     "collapsed": false,
     "input": [
      "ylim((0., 2.1))\n",
      "xlabel('x'); ylabel('concentration')\n",
      "pyplot.plot(x_grid, U)\n",
      "pyplot.plot(x_grid, V)\n",
      "pyplot.show()"
     ],
     "language": "python",
     "metadata": {},
     "outputs": [],
     "prompt_number": 18
    },
    {
     "cell_type": "code",
     "collapsed": false,
     "input": [
      "A_u = numpy.diagflat([-sigma_u for i in range(J-1)], -1) +\\\n",
      "      numpy.diagflat([1.+sigma_u]+[1.+2.*sigma_u for i in range(J-2)]+[1.+sigma_u]) +\\\n",
      "      numpy.diagflat([-sigma_u for i in range(J-1)], 1)\n",
      "        \n",
      "B_u = numpy.diagflat([sigma_u for i in range(J-1)], -1) +\\\n",
      "      numpy.diagflat([1.-sigma_u]+[1.-2.*sigma_u for i in range(J-2)]+[1.-sigma_u]) +\\\n",
      "      numpy.diagflat([sigma_u for i in range(J-1)], 1)\n",
      "        \n",
      "A_v = numpy.diagflat([-sigma_v for i in range(J-1)], -1) +\\\n",
      "      numpy.diagflat([1.+sigma_v]+[1.+2.*sigma_v for i in range(J-2)]+[1.+sigma_v]) +\\\n",
      "      numpy.diagflat([-sigma_v for i in range(J-1)], 1)\n",
      "        \n",
      "B_v = numpy.diagflat([sigma_v for i in range(J-1)], -1) +\\\n",
      "      numpy.diagflat([1.-sigma_v]+[1.-2.*sigma_v for i in range(J-2)]+[1.-sigma_v]) +\\\n",
      "      numpy.diagflat([sigma_v for i in range(J-1)], 1)"
     ],
     "language": "python",
     "metadata": {},
     "outputs": [],
     "prompt_number": 9
    },
    {
     "cell_type": "code",
     "collapsed": false,
     "input": [
      "print A_u"
     ],
     "language": "python",
     "metadata": {},
     "outputs": [
      {
       "output_type": "stream",
       "stream": "stdout",
       "text": [
        "[[ 1.981 -0.981  0.    ...,  0.     0.     0.   ]\n",
        " [-0.981  2.962 -0.981 ...,  0.     0.     0.   ]\n",
        " [ 0.    -0.981  2.962 ...,  0.     0.     0.   ]\n",
        " ..., \n",
        " [ 0.     0.     0.    ...,  2.962 -0.981  0.   ]\n",
        " [ 0.     0.     0.    ..., -0.981  2.962 -0.981]\n",
        " [ 0.     0.     0.    ...,  0.    -0.981  1.981]]\n"
       ]
      }
     ],
     "prompt_number": 10
    },
    {
     "cell_type": "code",
     "collapsed": false,
     "input": [
      "f_vec = lambda U, V: numpy.multiply(dt, numpy.subtract(numpy.multiply(V, \n",
      "                     numpy.add(k0, numpy.divide(numpy.multiply(U,U), numpy.add(1., numpy.multiply(U,U))))), U))"
     ],
     "language": "python",
     "metadata": {},
     "outputs": [],
     "prompt_number": 11
    },
    {
     "cell_type": "code",
     "collapsed": false,
     "input": [
      "print \"[0,0]=\",f(U[0], V[0])\n",
      "\n",
      "print \"[-1,-1]=\",f(U[-1], V[-1])"
     ],
     "language": "python",
     "metadata": {},
     "outputs": [
      {
       "output_type": "stream",
       "stream": "stdout",
       "text": [
        "[0,0]= 0.00996135898275\n",
        "[-1,-1]= -0.0623832232232\n"
       ]
      }
     ],
     "prompt_number": 12
    },
    {
     "cell_type": "code",
     "collapsed": false,
     "input": [
      "print f_vec(U,V)"
     ],
     "language": "python",
     "metadata": {},
     "outputs": [
      {
       "output_type": "stream",
       "stream": "stdout",
       "text": [
        "[ 0.01   0.01   0.01   0.01   0.01   0.01   0.01   0.01   0.01   0.01   0.01\n",
        "  0.01   0.01   0.01   0.01   0.01   0.01   0.01   0.01   0.01   0.01   0.01\n",
        "  0.01   0.01   0.01   0.01   0.01   0.01   0.01   0.01   0.01   0.01   0.01\n",
        "  0.01   0.01   0.01   0.01   0.01   0.01   0.01   0.01   0.01   0.01   0.01\n",
        "  0.01   0.01   0.01   0.01   0.01   0.01   0.01   0.01   0.01   0.01   0.01\n",
        "  0.01   0.01   0.01   0.01   0.01   0.01   0.01   0.01   0.01   0.01   0.01\n",
        "  0.01   0.01   0.01   0.01   0.01   0.01   0.01   0.01   0.01   0.01   0.01\n",
        "  0.01   0.01   0.01   0.01   0.01   0.01   0.01   0.01   0.01   0.01   0.01\n",
        "  0.01   0.01  -0.062 -0.062 -0.062 -0.062 -0.062 -0.062 -0.062 -0.062\n",
        " -0.062 -0.062]\n"
       ]
      }
     ],
     "prompt_number": 13
    },
    {
     "cell_type": "code",
     "collapsed": false,
     "input": [
      "U_record = []\n",
      "V_record = []\n",
      "\n",
      "U_record.append(U)\n",
      "V_record.append(V)\n",
      "\n",
      "for ti in range(1,N):\n",
      "    U_new = numpy.linalg.solve(A_u, B_u.dot(U) + f_vec(U,V))\n",
      "    V_new = numpy.linalg.solve(A_v, B_v.dot(V) - f_vec(U,V))\n",
      "    \n",
      "    U = U_new\n",
      "    V = V_new\n",
      "    \n",
      "    U_record.append(U)\n",
      "    V_record.append(V)"
     ],
     "language": "python",
     "metadata": {},
     "outputs": [],
     "prompt_number": 14
    },
    {
     "cell_type": "code",
     "collapsed": false,
     "input": [
      "ylim((0., 2.1))\n",
      "xlabel('x'); ylabel('concentration')\n",
      "pyplot.plot(x_grid, U)\n",
      "pyplot.plot(x_grid, V)\n",
      "pyplot.show()"
     ],
     "language": "python",
     "metadata": {},
     "outputs": [],
     "prompt_number": 15
    },
    {
     "cell_type": "code",
     "collapsed": false,
     "input": [
      "U_record = numpy.array(U_record)\n",
      "V_record = numpy.array(V_record)\n",
      "\n",
      "fig, ax = subplots()\n",
      "xlabel('x'); ylabel('t')\n",
      "heatmap = ax.pcolor(x_grid, t_grid, U_record, vmin=0., vmax=1.2)"
     ],
     "language": "python",
     "metadata": {},
     "outputs": [],
     "prompt_number": 16
    },
    {
     "cell_type": "code",
     "collapsed": false,
     "input": [],
     "language": "python",
     "metadata": {},
     "outputs": [],
     "prompt_number": 16
    }
   ],
   "metadata": {}
  }
 ]
}